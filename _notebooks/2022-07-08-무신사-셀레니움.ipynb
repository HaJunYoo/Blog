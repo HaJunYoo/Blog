{
 "cells": [
  {
   "cell_type": "markdown",
   "id": "46130553",
   "metadata": {},
   "source": [
    "# 무신사 selenium\n",
    "> 무신사를 이용한 간단한 selenium 실습을 정리하였습니다\n",
    "\n",
    "- toc: true\n",
    "- badges: true\n",
    "- comments: false\n",
    "- categories: [crawling]\n",
    "- image:"
   ]
  },
  {
   "cell_type": "code",
   "execution_count": 1,
   "id": "57e9c9f9",
   "metadata": {
    "ExecuteTime": {
     "end_time": "2022-07-08T03:47:38.944658Z",
     "start_time": "2022-07-08T03:47:38.806059Z"
    }
   },
   "outputs": [],
   "source": [
    "import requests\n",
    "import time\n",
    "\n",
    "import warnings\n",
    "import re\n",
    "\n",
    "from bs4 import BeautifulSoup\n",
    "from selenium import webdriver\n"
   ]
  },
  {
   "cell_type": "code",
   "execution_count": 3,
   "id": "78c0876c",
   "metadata": {
    "ExecuteTime": {
     "end_time": "2022-07-08T03:47:49.368951Z",
     "start_time": "2022-07-08T03:47:49.366147Z"
    }
   },
   "outputs": [],
   "source": [
    "warnings.filterwarnings(action='ignore')"
   ]
  },
  {
   "cell_type": "markdown",
   "id": "81b05fa2",
   "metadata": {
    "pycharm": {
     "name": "#%% md\n"
    }
   },
   "source": [
    "무신사 접속 -> 상의(전체보기) 카테고리 페이지로 접속을 한다."
   ]
  },
  {
   "cell_type": "code",
   "execution_count": 4,
   "id": "dcc56d02",
   "metadata": {
    "ExecuteTime": {
     "end_time": "2022-07-08T03:48:39.313820Z",
     "start_time": "2022-07-08T03:48:20.279916Z"
    },
    "pycharm": {
     "name": "#%%\n"
    }
   },
   "outputs": [],
   "source": [
    "#\n",
    "# 무신사 접속 -> 상의(전체보기) 카테고리 페이지로 접속을 한다.\n",
    "url = 'https://www.musinsa.com/category/001'\n",
    "\n",
    "# 본인의 크롬 드라이버 절대주소\n",
    "driver = webdriver.Chrome('본인의 크롬 드라이버 절대주소 혹은 상대주소')\n",
    "\n",
    "driver.implicitly_wait(5)  # 웹 페이지 로딩 최대 5초 대기\n",
    "driver.get(url)"
   ]
  },
  {
   "cell_type": "code",
   "execution_count": 5,
   "id": "35dcb5b6",
   "metadata": {
    "ExecuteTime": {
     "end_time": "2022-07-08T03:48:47.035720Z",
     "start_time": "2022-07-08T03:48:39.327212Z"
    }
   },
   "outputs": [],
   "source": [
    "#\n",
    "# 가장 첫번째 옷 아이템의 사진을 클릭 \n",
    "\n",
    "driver.find_element_by_css_selector('#searchList > li:nth-child(1) > div.li_inner > div.list_img > a > img').click()\n"
   ]
  },
  {
   "cell_type": "code",
   "execution_count": 6,
   "id": "12fe06c5",
   "metadata": {
    "ExecuteTime": {
     "end_time": "2022-07-08T03:48:47.134441Z",
     "start_time": "2022-07-08T03:48:47.052174Z"
    }
   },
   "outputs": [
    {
     "name": "stdout",
     "output_type": "stream",
     "text": [
      "https://image.msscdn.net/images/goods_img/20210316/1848166/1848166_11_500.jpg?t=20220404173105\n"
     ]
    }
   ],
   "source": [
    "#\n",
    "# 상세 페이지 옷 사진 가져오기\n",
    "\n",
    "# img css selector을 가져온 후 \n",
    "image = driver.find_element_by_css_selector('#detail_bigimg > div.product-img > img')\n",
    "# src 태그를 가져온다 \n",
    "src = image.get_attribute('src') \n",
    "print(src)"
   ]
  },
  {
   "cell_type": "code",
   "execution_count": 7,
   "id": "a9f6444c",
   "metadata": {
    "ExecuteTime": {
     "end_time": "2022-07-08T03:48:47.212635Z",
     "start_time": "2022-07-08T03:48:47.146287Z"
    }
   },
   "outputs": [
    {
     "name": "stdout",
     "output_type": "stream",
     "text": [
      "에센셜 쿨 코튼 2-PACK 티셔츠\n"
     ]
    }
   ],
   "source": [
    "#\n",
    "# 상품 이름 \n",
    "product_name = driver.find_element_by_css_selector('#page_product_detail > div.right_area.page_detail_product > div.right_contents.section_product_summary > span > em').text\n",
    "print(product_name)"
   ]
  },
  {
   "cell_type": "code",
   "execution_count": 8,
   "id": "9d05d43a",
   "metadata": {
    "ExecuteTime": {
     "end_time": "2022-07-08T03:48:47.225654Z",
     "start_time": "2022-07-08T03:48:47.223043Z"
    }
   },
   "outputs": [],
   "source": [
    "#\n",
    "# 브랜드 이름\n",
    "# brand_name = driver.find_element_by_css_selector('#product_order_info > div.explan_product.product_info_section > ul > li:nth-child(1) > p.product_article_contents > strong > a').text\n",
    "# brand_name "
   ]
  },
  {
   "cell_type": "code",
   "execution_count": 9,
   "id": "44da607b",
   "metadata": {
    "ExecuteTime": {
     "end_time": "2022-07-08T03:48:47.268885Z",
     "start_time": "2022-07-08T03:48:47.237488Z"
    }
   },
   "outputs": [
    {
     "name": "stdout",
     "output_type": "stream",
     "text": [
      "COVERNAT\n",
      "CO0000STE1BK\n"
     ]
    }
   ],
   "source": [
    "#\n",
    "# #product_order_info > div.explan_product.product_info_section > ul > li:nth-child(1) > p.product_article_contents > strong\n",
    "# 브랜드 이름과 품번 가져오기\n",
    "\n",
    "product_brand = driver.find_element_by_css_selector('#product_order_info > div.explan_product.product_info_section > ul > li:nth-child(1) > p.product_article_contents > strong').text\n",
    "brand_id = product_brand.split('/') \n",
    "brand_id = [elem.strip() for elem in brand_id]\n",
    "brand_name = brand_id[0]\n",
    "product_id = brand_id[1]\n",
    "print(brand_name)\n",
    "print(product_id)"
   ]
  },
  {
   "cell_type": "code",
   "execution_count": 10,
   "id": "23f980f8",
   "metadata": {
    "ExecuteTime": {
     "end_time": "2022-07-08T03:48:47.307988Z",
     "start_time": "2022-07-08T03:48:47.279513Z"
    }
   },
   "outputs": [
    {
     "name": "stdout",
     "output_type": "stream",
     "text": [
      "2022 S/S\n",
      "남 여\n"
     ]
    }
   ],
   "source": [
    "#\n",
    "# 시즌 정보와 성별 가져오기\n",
    "\n",
    "season_gender = driver.find_element_by_css_selector('#product_order_info > div.explan_product.product_info_section > ul > li:nth-child(2) > p.product_article_contents').text\n",
    "season_gender = season_gender.split('/') \n",
    "season_gender = [elem.strip() for elem in season_gender]\n",
    "season = season_gender[0] +'/'+ season_gender[1]\n",
    "gender = season_gender[2]\n",
    "print(season)\n",
    "print(gender)"
   ]
  },
  {
   "cell_type": "code",
   "execution_count": 11,
   "id": "1ca9a707",
   "metadata": {
    "ExecuteTime": {
     "end_time": "2022-07-08T03:48:47.396557Z",
     "start_time": "2022-07-08T03:48:47.318331Z"
    }
   },
   "outputs": [
    {
     "data": {
      "text/plain": [
       "'49000'"
      ]
     },
     "execution_count": 11,
     "metadata": {},
     "output_type": "execute_result"
    }
   ],
   "source": [
    "#\n",
    "# 상품 가격 가져오기\n",
    "\n",
    "price = driver.find_element_by_css_selector('#goods_price > del').text\n",
    "price = re.sub('[-=.,#/?:$}원]', '', price)\n",
    "price\n"
   ]
  },
  {
   "cell_type": "code",
   "execution_count": 12,
   "id": "fd8b73ab",
   "metadata": {
    "ExecuteTime": {
     "end_time": "2022-07-08T03:48:47.440664Z",
     "start_time": "2022-07-08T03:48:47.407826Z"
    }
   },
   "outputs": [
    {
     "data": {
      "text/plain": [
       "['반팔티셔츠',\n",
       " '티셔츠',\n",
       " '반팔티',\n",
       " '오버핏반팔',\n",
       " '에센셜라인',\n",
       " '쿨코튼',\n",
       " '썸머컬렉션',\n",
       " '로고티셔츠',\n",
       " '입시덕후',\n",
       " '깡스타일리스트PICK']"
      ]
     },
     "execution_count": 12,
     "metadata": {},
     "output_type": "execute_result"
    }
   ],
   "source": [
    "#\n",
    "# 해시태그 가져오기\n",
    "\n",
    "# #product_order_info > div.explan_product.product_info_section > ul > li.article-tag-list.list > p\n",
    "\n",
    "hashtag = driver.find_element_by_css_selector('#product_order_info > div.explan_product.product_info_section > ul > li.article-tag-list.list > p').text\n",
    "\n",
    "hashtag = hashtag.split('\\n')\n",
    "\n",
    "# 정규표현식을 통해 #(특수기호) 제거\n",
    "hashtag = [re.sub('[-=.#/?:$}]', '', elem) for elem in hashtag]\n",
    "hashtag\n"
   ]
  },
  {
   "cell_type": "code",
   "execution_count": 13,
   "id": "28e1ba73",
   "metadata": {
    "ExecuteTime": {
     "end_time": "2022-07-08T03:48:47.481854Z",
     "start_time": "2022-07-08T03:48:47.455821Z"
    }
   },
   "outputs": [
    {
     "data": {
      "text/plain": [
       "'126089'"
      ]
     },
     "execution_count": 13,
     "metadata": {},
     "output_type": "execute_result"
    }
   ],
   "source": [
    "#\n",
    "# 좋야요 개수\n",
    "# #product-top-like > p.product_article_contents.goods_like_1848166 > span\n",
    "\n",
    "like = driver.find_element_by_css_selector('#product-top-like > p.product_article_contents.goods_like_1848166 > span').text\n",
    "like = re.sub('[^0-9]', '', like)\n",
    "like"
   ]
  },
  {
   "cell_type": "code",
   "execution_count": 14,
   "id": "30c1b2dc",
   "metadata": {
    "ExecuteTime": {
     "end_time": "2022-07-08T03:48:47.522224Z",
     "start_time": "2022-07-08T03:48:47.494001Z"
    }
   },
   "outputs": [
    {
     "data": {
      "text/plain": [
       "'4.8'"
      ]
     },
     "execution_count": 14,
     "metadata": {},
     "output_type": "execute_result"
    }
   ],
   "source": [
    "#\n",
    "# 평점\n",
    "rate = driver.find_element_by_css_selector('#product_order_info > div.explan_product.product_info_section > ul > li:nth-child(6) > p.product_article_contents > a > span.prd-score__rating').text\n",
    "rate"
   ]
  },
  {
   "cell_type": "code",
   "execution_count": 15,
   "id": "df777f4c",
   "metadata": {
    "ExecuteTime": {
     "end_time": "2022-07-08T03:48:47.556777Z",
     "start_time": "2022-07-08T03:48:47.531700Z"
    }
   },
   "outputs": [
    {
     "data": {
      "text/plain": [
       "'32374'"
      ]
     },
     "execution_count": 15,
     "metadata": {},
     "output_type": "execute_result"
    }
   ],
   "source": [
    "#\n",
    "# 구매 후기 개수 -> 평점과 구매 후기 개수를 곱해서 유의미한 feature을 만들어 낼 수 있을 것 같음 \n",
    "rate_num = driver.find_element_by_css_selector('#product_order_info > div.explan_product.product_info_section > ul > li:nth-child(6) > p.product_article_contents > a > span.prd-score__review-count').text\n",
    "rate_num = re.sub('[^0-9]', '', rate_num)\n",
    "rate_num"
   ]
  },
  {
   "cell_type": "code",
   "execution_count": 16,
   "id": "32bd77a0",
   "metadata": {
    "ExecuteTime": {
     "end_time": "2022-07-08T03:48:47.645475Z",
     "start_time": "2022-07-08T03:48:47.567304Z"
    }
   },
   "outputs": [
    {
     "data": {
      "text/plain": [
       "['37%', '21%', '19%', '11%', '4%', '8%']"
      ]
     },
     "execution_count": 16,
     "metadata": {},
     "output_type": "execute_result"
    }
   ],
   "source": [
    "#\n",
    "# 구매 현황 (purchase status)\n",
    "# ~18세 / 19 ~ 23세 / 24 ~ 28세 / 29 ~ 33세 / 34 ~ 39세 / 40세 ~ \n",
    "\n",
    "purchase_status = driver.find_element_by_css_selector('#page_product_detail > div.right_area.page_detail_product > div.section_graph_detail > div > div > div.graph_bar_wrap > div > ul').text\n",
    "purchase_status = purchase_status.split('\\n') \n",
    "\n",
    "cleaned_purchase_status = [elem for elem in purchase_status if '%' in elem]\n",
    "cleaned_purchase_status"
   ]
  },
  {
   "cell_type": "code",
   "execution_count": 17,
   "id": "ba5e44f8",
   "metadata": {
    "ExecuteTime": {
     "end_time": "2022-07-08T03:48:47.717313Z",
     "start_time": "2022-07-08T03:48:47.659800Z"
    }
   },
   "outputs": [
    {
     "data": {
      "text/plain": [
       "'64%'"
      ]
     },
     "execution_count": 17,
     "metadata": {},
     "output_type": "execute_result"
    }
   ],
   "source": [
    "#\n",
    "# 남성 구매 비율 (파이 차트)\n",
    "\n",
    "purchase_men = driver.find_element_by_css_selector('#graph_doughnut_label > ul > li:nth-child(1) > dl > dd').text\n",
    "purchase_men"
   ]
  },
  {
   "cell_type": "code",
   "execution_count": 18,
   "id": "17b3a9f4",
   "metadata": {
    "ExecuteTime": {
     "end_time": "2022-07-08T03:48:47.780244Z",
     "start_time": "2022-07-08T03:48:47.728001Z"
    }
   },
   "outputs": [
    {
     "data": {
      "text/plain": [
       "'36%'"
      ]
     },
     "execution_count": 18,
     "metadata": {},
     "output_type": "execute_result"
    }
   ],
   "source": [
    "#\n",
    "# 여성 구매 비율 (파이 차트)\n",
    "\n",
    "purchase_women = driver.find_element_by_css_selector('#graph_doughnut_label > ul > li:nth-child(2) > dl > dd').text\n",
    "purchase_women"
   ]
  }
 ],
 "metadata": {
  "kernelspec": {
   "display_name": "Python 3 (ipykernel)",
   "language": "python",
   "name": "python3"
  },
  "language_info": {
   "codemirror_mode": {
    "name": "ipython",
    "version": 3
   },
   "file_extension": ".py",
   "mimetype": "text/x-python",
   "name": "python",
   "nbconvert_exporter": "python",
   "pygments_lexer": "ipython3",
   "version": "3.7.11"
  },
  "toc": {
   "base_numbering": 1,
   "nav_menu": {},
   "number_sections": true,
   "sideBar": true,
   "skip_h1_title": false,
   "title_cell": "Table of Contents",
   "title_sidebar": "Contents",
   "toc_cell": false,
   "toc_position": {},
   "toc_section_display": true,
   "toc_window_display": false
  },
  "varInspector": {
   "cols": {
    "lenName": 16,
    "lenType": 16,
    "lenVar": 40
   },
   "kernels_config": {
    "python": {
     "delete_cmd_postfix": "",
     "delete_cmd_prefix": "del ",
     "library": "var_list.py",
     "varRefreshCmd": "print(var_dic_list())"
    },
    "r": {
     "delete_cmd_postfix": ") ",
     "delete_cmd_prefix": "rm(",
     "library": "var_list.r",
     "varRefreshCmd": "cat(var_dic_list()) "
    }
   },
   "types_to_exclude": [
    "module",
    "function",
    "builtin_function_or_method",
    "instance",
    "_Feature"
   ],
   "window_display": false
  }
 },
 "nbformat": 4,
 "nbformat_minor": 5
}