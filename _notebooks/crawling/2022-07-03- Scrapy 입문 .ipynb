{
 "cells": [
  {
   "cell_type": "markdown",
   "id": "0d95f083",
   "metadata": {
    "ExecuteTime": {
     "end_time": "2022-07-03T07:19:05.707732Z",
     "start_time": "2022-07-03T07:19:05.695734Z"
    }
   },
   "source": [
    "# Scrapy 입문\n",
    "> 간단한 Scrapy 개념과 실습을 정리하였습니다\n",
    "\n",
    "- toc: true\n",
    "- badges: true\n",
    "- comments: false\n",
    "- categories: [crawling]\n",
    "- image:"
   ]
  },
  {
   "cell_type": "markdown",
   "id": "3f03c84b",
   "metadata": {},
   "source": [
    "## Scrapy\n",
    "\n",
    "> - 크롤링을 좀더 안정적으로 할 수 있음\n",
    ">   - Scrapy 내부에서 다양한 안정장치가 있음\n",
    "> - 크롤링을 좀더 빠르게 할 수 있음\n",
    ">   - 크롤링 프로그램을 동시에 여러개 실행시켜서 많은 량의 데이터 크롤링시, 시간 단축\n",
    "> - 다양한 크롤링 관련 기능\n",
    "    - 크롤링한 데이터를 다양한 포멧으로 저장도 가능"
   ]
  },
  {
   "cell_type": "markdown",
   "id": "a4c8f6bf",
   "metadata": {
    "ExecuteTime": {
     "end_time": "2022-07-03T07:21:44.525901Z",
     "start_time": "2022-07-03T07:21:44.518238Z"
    }
   },
   "source": [
    "## 사용 방법\n",
    "\n",
    "1. 실제 크롤링할 스파이더(spider, scrapy 기반 크롤링 프로그램) 생성 <br>\n",
    "2. 크롤링할 사이트(시작점)와 크롤링할 아이템(item)에 대한 selector 설정 <br>\n",
    "3. 크롤러 실행"
   ]
  },
  {
   "cell_type": "markdown",
   "id": "642a246c",
   "metadata": {},
   "source": [
    "윈도우, 맥 공통\n",
    "```shell\n",
    "pip install scrapy\n",
    "```"
   ]
  },
  {
   "cell_type": "markdown",
   "id": "afcf62cf",
   "metadata": {},
   "source": [
    "프로젝트 생성\n",
    "\n",
    "1. 터미널 오픈\n",
    "2. scrapy startproject <프로젝트 이름>\n",
    "```shell\n",
    "scrapy startproject ecommerce\n",
    "```\n",
    "3. 생성된 프로젝트 확인"
   ]
  },
  {
   "cell_type": "markdown",
   "id": "e45daf8a",
   "metadata": {},
   "source": [
    "``\n",
    "cd ecommerce\n",
    "``\n",
    "<br>ecommerce 폴더 내의 파일 구조 확인\n",
    "```shell\n",
    "\n",
    "scrapy.cfg # deploy configuration file\n",
    "ecommerce/ # project's Python module, you'll import your code from her\n",
    "    __init__.py\n",
    "    items.py # project items definition file\n",
    "    pipelines.py # project pipelines file\n",
    "    settings.py # project settings file\n",
    "    spiders/ # a directory where you'll later put your spiders\n",
    "        __init__.py\n",
    "\n",
    "\n",
    "```"
   ]
  },
  {
   "cell_type": "markdown",
   "id": "2360a8ba",
   "metadata": {},
   "source": [
    "`scrapy -h` 명령어를 통해 사용법을 간략하게나마 알 수 있다."
   ]
  },
  {
   "cell_type": "markdown",
   "id": "31a6ce2f",
   "metadata": {},
   "source": [
    "- ecommerce/ecommerce 폴더에서 다음 명령으로 작성 가능\n",
    "- ``genspider``을 통해 크롤러 생성 \n",
    "\n",
    "```shell\n",
    "\n",
    "scrapy genspider <크롤러이름> <크롤링페이지주소>\n",
    "scrapy genspider gmarket www.gmarket.co.kr\n",
    "\n",
    "// 해당 주소에는 https://를 붙여주지 않는 것이 좋다. \n",
    "\n",
    ">> Created spider 'gmarket' using template 'basic' in module: ecommerce.spiders.gmarket\n",
    "\n",
    "```\n",
    " __-> ecommerce/ecommerce/spiders 디렉토리에 gmarket.py 파일(템플릿)이 생김__\n"
   ]
  },
  {
   "cell_type": "markdown",
   "id": "8bf64800",
   "metadata": {},
   "source": [
    "#### scrapy template 설명"
   ]
  },
  {
   "cell_type": "markdown",
   "id": "72c1a2ac",
   "metadata": {},
   "source": [
    "- gmarket.py"
   ]
  },
  {
   "cell_type": "code",
   "execution_count": 2,
   "id": "a9b7f0fb",
   "metadata": {
    "ExecuteTime": {
     "end_time": "2022-07-03T07:51:38.756967Z",
     "start_time": "2022-07-03T07:51:38.366921Z"
    }
   },
   "outputs": [],
   "source": [
    "import scrapy\n",
    "\n",
    "# scrapy.Spider을 상속해서 spider의 메소드를 사용 \n",
    "class GmarketSpider(scrapy.Spider):\n",
    "    name = 'gmarket'\n",
    "    allowed_domains = ['www.gmarket.co.kr'] # 특정 도메인만 허용: 다른 사이트의 크롤링을 방지 \n",
    "    start_urls = ['http://www.gmarket.co.kr/']\n",
    "\n",
    "    def parse(self, response):\n",
    "        print(response.text) # 이 부분을 수정해준다\n",
    "        \n"
   ]
  },
  {
   "cell_type": "markdown",
   "id": "7e536c79",
   "metadata": {},
   "source": [
    "```shell\n",
    "scrapy crawl gmarket \n",
    "```\n",
    "위의 명령문으로 크롤링을 실행, 홈페이지 텍스트를 전부 가져오기 때문에 엄청 복잡한 정보가 나온다\n",
    "\n",
    "- 위의 gmarket.py를 통하여 기본 템플릿 구조를 알 수 있다.\n",
    "\n",
    "    - `start_urls` 가 중요한데, 이는 `크롤링할 페이지 주소`를 나타내기 때문이다.\n",
    "        - start_urls는 리스트로 크롤링할 주소를 여러개 써도 된다.\n",
    "    - parse 함수는 클래스의 메서드로 response를 반드시 인자로 받아야 한다\n",
    "        - response에 start_urls 에 기록된 주소의 크롤링 결과가 담아져 온다.\n",
    "    - response에는 크롤링된 데이터가 담겨져 있습니다\n",
    "        - response.text에 크롤링된 데이터가 담겨져 있습니다. \n",
    "        \n",
    "        "
   ]
  },
  {
   "cell_type": "code",
   "execution_count": 3,
   "outputs": [],
   "source": [
    "import scrapy\n",
    "\n",
    "class GmarketSpider(scrapy.Spider):\n",
    "    name = 'gmarket'\n",
    "    allowed_domains = ['www.gmarket.co.kr'] # 특정 도메인만 허용: 다른 사이트의 크롤링을 방지\n",
    "    start_urls = ['http://www.gmarket.co.kr/']\n",
    "\n",
    "    def parse(self, response):\n",
    "        print(response.url) # response의 url을 출력해준다\n",
    "\n"
   ],
   "metadata": {
    "collapsed": false,
    "pycharm": {
     "name": "#%%\n"
    }
   }
  },
  {
   "cell_type": "markdown",
   "id": "074856ee",
   "metadata": {},
   "source": [
    "### scrapy shell 사용"
   ]
  },
  {
   "cell_type": "markdown",
   "id": "c6784402",
   "metadata": {
    "pycharm": {
     "name": "#%% md\n"
    }
   },
   "source": [
    "``` shell\n",
    "scrapy shell 'http://corners.gmarket.co.kr/Bestsellers'\n",
    "\n",
    "```\n",
    "\n",
    "해당 링크의 정보를 가져와서 명령을 기다리는 상태가 된다.\n",
    "\n",
    "![]({{site.baseurl}}/images/scrapy/명령기다림.png)\n",
    "\n",
    "- 명령어\n",
    "```shell\n",
    "view(response)\n",
    "// 크롤링한 페이지를 웹브라우저를 통해 확인하기\n",
    "\n",
    "response.url\n",
    "// 크롤링한 페이지 주소 확인\n",
    "\n",
    "```"
   ]
  },
  {
   "cell_type": "markdown",
   "source": [
    "\n",
    "- response.css()꞉ css selector 로 데이터 가져올 수 있다.\n",
    "```shell\n",
    "response.css('head > title').get()\n",
    "response.css('head > title').getall() # 리스트 형태로 가져옴\n",
    "response.css('head > title::text').get() # 태그가 없어진 채로 나온다\n",
    "# Out[5]: 'G마켓 - G마켓 베스트'\n",
    "\n",
    "response.css('div.best-list li > a::text').getall()\n",
    "#  gmarket의 베스트 상품의 타이틀 텍스트를 가져올 수 있다\n",
    "response.css('div.best-list li > a::text')[1].get() # 특정 리스트의 인덱스 순번에 따라서 가져옴\n",
    "\n",
    "```"
   ],
   "metadata": {
    "collapsed": false,
    "pycharm": {
     "name": "#%% md\n"
    }
   }
  },
  {
   "cell_type": "markdown",
   "source": [
    "- response.xpath()꞉ xpath 로 데이터 가져오기\n",
    "```python\n",
    "div.best-list ul li a\n",
    "xpath => div[@class='best-list']/ul/li/a\n",
    "\n",
    "response.xpath('//div[@class=\"best-list\"]/ul/li/a').getall() # 전부 가져오기\n",
    "response.xpath('//div[@class=\"best-list\"]/ul/li/a/text()').getall() # 텍스트만 가져오기\n",
    "\n",
    "```\n",
    "\n",
    "\n",
    "- 정규표현식 사용 가능\n",
    "\n",
    "```python\n",
    "response.css('div.best-list li > a::text')[1].get()\n",
    "## Out[6]: '(무료반품) 쉬블림로브 12%쿠폰 블라우스 원피스 팬츠'\n",
    "\n",
    "## ? 는 앞 문자가 0 ~ 1 번 표시되는 패턴\n",
    "## * 는 앞 문자가 0 ~ 번 표시되는 패턴\n",
    "## + 는 앞 문자가 1번 또는 그 이상 반복되는 패턴\n",
    "response.css('div.best-list li > a::text')[1].re('(\\w+)')\n",
    "## Out[7]: ['무료반품', '쉬블림로브', '12', '쿠폰', '블라우스', '원피스', '팬츠']\n",
    "\n",
    "# xpath 사용 가능\n",
    "response.xpath('//div[@class=\"best-list\"]/ul/li/a/text()')[1].re('(\\w+)')\n",
    "```"
   ],
   "metadata": {
    "collapsed": false,
    "pycharm": {
     "name": "#%% md\n"
    }
   }
  },
  {
   "cell_type": "code",
   "execution_count": null,
   "outputs": [],
   "source": [],
   "metadata": {
    "collapsed": false,
    "pycharm": {
     "name": "#%%\n"
    }
   }
  }
 ],
 "metadata": {
  "kernelspec": {
   "display_name": "Python 3 (ipykernel)",
   "language": "python",
   "name": "python3"
  },
  "language_info": {
   "codemirror_mode": {
    "name": "ipython",
    "version": 3
   },
   "file_extension": ".py",
   "mimetype": "text/x-python",
   "name": "python",
   "nbconvert_exporter": "python",
   "pygments_lexer": "ipython3",
   "version": "3.7.11"
  },
  "toc": {
   "base_numbering": 1,
   "nav_menu": {},
   "number_sections": true,
   "sideBar": true,
   "skip_h1_title": false,
   "title_cell": "Table of Contents",
   "title_sidebar": "Contents",
   "toc_cell": false,
   "toc_position": {},
   "toc_section_display": true,
   "toc_window_display": false
  },
  "varInspector": {
   "cols": {
    "lenName": 16,
    "lenType": 16,
    "lenVar": 40
   },
   "kernels_config": {
    "python": {
     "delete_cmd_postfix": "",
     "delete_cmd_prefix": "del ",
     "library": "var_list.py",
     "varRefreshCmd": "print(var_dic_list())"
    },
    "r": {
     "delete_cmd_postfix": ") ",
     "delete_cmd_prefix": "rm(",
     "library": "var_list.r",
     "varRefreshCmd": "cat(var_dic_list()) "
    }
   },
   "types_to_exclude": [
    "module",
    "function",
    "builtin_function_or_method",
    "instance",
    "_Feature"
   ],
   "window_display": false
  }
 },
 "nbformat": 4,
 "nbformat_minor": 5
}